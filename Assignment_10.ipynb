{
  "nbformat": 4,
  "nbformat_minor": 0,
  "metadata": {
    "colab": {
      "provenance": []
    },
    "kernelspec": {
      "name": "python3",
      "display_name": "Python 3"
    },
    "language_info": {
      "name": "python"
    }
  },
  "cells": [
    {
      "cell_type": "code",
      "execution_count": null,
      "metadata": {
        "id": "pHBNRTL8Ry9T"
      },
      "outputs": [],
      "source": [
        " Q.1 Multithreading is defined as the ability of a processor to execute multiple threads concurrently.\n",
        "    It is used to increase the throughput and performance of an application. The reasons for using multithreading are:\n",
        "    To keep the program responsive.\n",
        "    To make better use of the CPU.\n",
        "    To allow multiple threads to be scheduled to multiple CPU cores.\n",
        "    To improve application responsiveness and give better interaction with the user.\n",
        "    To simplify code for problems that are naturally to be solved by multi-threading.\n",
        "\n",
        "    Threading module is used to handle threads in python"
      ]
    },
    {
      "cell_type": "code",
      "source": [
        "Q.2 The threading module is used to create and manage threads in Python.\n",
        "   1. The activeCount() function of thread class is used to return the number of active threads in the current thread's thread group. The value returned is only an estimate because the number of threads may change dynamically while this method traverses internal data structures.\n",
        "   2. The currentThread()function is used to return the current Thread object, corresponding to the caller's thread of control. If the caller's thread of control was not created through the threading module, then a dummy thread object with limited functionality is returned.\n",
        "   3. Enumerate() function adds a counter to an iterable and returns it in a form of enumerating object. This enumerated object can then be used directly for loops or converted into a list of tuples using the list() function.\n"
      ],
      "metadata": {
        "id": "biTKAoXIYSa6"
      },
      "execution_count": null,
      "outputs": []
    },
    {
      "cell_type": "code",
      "source": [
        "Q.3\n",
        "   1. Thre run() method is an inbuilt method of the Thread class of the threading module , it is used to represent a thread's activity.\n",
        "   2. The start() function of the threading module is used to start a thread’s activity.\n",
        "   3. The join() function of the threading module is used to wait for a thread to finish before proceeding.\n",
        "   4. The isAlive() function of the threading module is used to check whether a thread is alive or not, i.e., it is still running or not."
      ],
      "metadata": {
        "id": "Q6kdiDeekmXI"
      },
      "execution_count": null,
      "outputs": []
    },
    {
      "cell_type": "code",
      "source": [
        "#Q.4\n",
        "import threading\n",
        "def print_square():\n",
        "  n=list(range(1,10))\n",
        "  for i in n:\n",
        "    square=i**2\n",
        "    print(f\"Square of {i} is {square}\")\n",
        "\n",
        "def print_cube():\n",
        "  n1=list(range(1,10))\n",
        "  for i in n1:\n",
        "    cube=i**3\n",
        "    print(f\"Cube of {i} is {cube}\")\n",
        "\n",
        "thread1=threading.Thread(target=print_square)\n",
        "thread2=threading.Thread(target=print_cube)\n",
        "\n",
        "thread1.start()\n",
        "thread2.start()\n",
        "\n",
        "thread1.join()\n",
        "thread2.join()\n",
        "\n"
      ],
      "metadata": {
        "colab": {
          "base_uri": "https://localhost:8080/"
        },
        "id": "FuzPjCY6u38I",
        "outputId": "d3fe16fb-8f95-4aab-a260-8548cbc51fb5"
      },
      "execution_count": 7,
      "outputs": [
        {
          "output_type": "stream",
          "name": "stdout",
          "text": [
            "Square of 1 is 1\n",
            "Square of 2 is 4\n",
            "Square of 3 is 9\n",
            "Square of 4 is 16\n",
            "Square of 5 is 25\n",
            "Square of 6 is 36\n",
            "Square of 7 is 49\n",
            "Square of 8 is 64\n",
            "Square of 9 is 81\n",
            "Cube of 1 is 1\n",
            "Cube of 2 is 8\n",
            "Cube of 3 is 27\n",
            "Cube of 4 is 64\n",
            "Cube of 5 is 125\n",
            "Cube of 6 is 216\n",
            "Cube of 7 is 343\n",
            "Cube of 8 is 512\n",
            "Cube of 9 is 729\n"
          ]
        }
      ]
    },
    {
      "cell_type": "code",
      "source": [
        "# Q.5\n",
        "\"\"\"Multithreading is a technique that allows a program to execute multiple tasks concurrently using multiple threads. It can improve the performance and responsiveness of applications, but it also has some challenges and drawbacks. Here are some of the advantages and disadvantages of multithreading:\n",
        "\n",
        "Advantages:\n",
        "\n",
        "   *Simultaneous access to multiple applications: Multithreading allows users to run multiple applications at the same time without waiting for one to finish before starting another.\n",
        "   *Reduced number of required servers: Multithreading can reduce the number of servers needed to handle a large number of requests by allowing each server to process multiple requests in parallel2.\n",
        "   *Improved performance and concurrency: Multithreading can increase the throughput and efficiency of a program by utilizing the available CPU cores or processors and avoiding idle time1.\n",
        "   *Simplified coding of remote procedure calls and conversations: Multithreading can simplify the coding of distributed applications that involve communication between different processes or machines by using separate threads for each request or conversation2.\n",
        "   *Better use of cache storage by utilization of resources: Multithreading can improve the cache performance by reducing the cache misses and increasing the cache hits, as threads share the same address space and memory resources1.\n",
        "\n",
        "Disadvantages:\n",
        "\n",
        "    *Complex debugging and testing processes: Multithreading can make debugging and testing more difficult and time-consuming, as threads may interact in unpredictable ways and cause errors such as race conditions, deadlocks, starvation, etc1.\n",
        "    *Overhead switching of context: Multithreading can incur some overhead costs due to context switching between threads, which involves saving and restoring the state of each thread and switching the CPU from one thread to another1.\n",
        "    *Increased potential for deadlock occurrence: Multithreading can increase the risk of deadlock, which is a situation where two or more threads are waiting for each other to release a shared resource and none of them can proceed1.\n",
        "    *Increased difficulty level in writing a program: Multithreading can increase the complexity and difficulty of writing a program, as programmers need to consider issues such as synchronization, concurrency control, thread safety, etc2.\n",
        "    *Limited by hardware: The performance benefits of multithreading are limited by the number of available cores or processors in the system, as adding more threads than cores may not improve the performance and may even degrade it due to context switching overhead"
      ],
      "metadata": {
        "id": "gFsRkEcAAiPe"
      },
      "execution_count": null,
      "outputs": []
    },
    {
      "cell_type": "code",
      "source": [
        "# Q.6\n",
        "\n",
        "      1.Deadlocks and race conditions are two common problems that can occur in concurrent programming, where multiple threads or processes are executing at the same time and sharing resources.\n",
        "      2.Deadlocks occur when two or more threads or processes are waiting for each other to release a resource and none of them can proceed. Race conditions occur when the outcome of a program depends on the timing or order of execution of certain operations, which are not synchronized or coordinated.\n",
        "      3.Deadlocks can be prevented by using techniques such as avoiding circular wait, using timeouts, ordering the resources, etc.Race conditions can be prevented by using techniques such as mutual exclusion, atomic operations, barriers, etc.\n",
        ""
      ],
      "metadata": {
        "id": "QkpG2x1qEVP8"
      },
      "execution_count": null,
      "outputs": []
    }
  ]
}